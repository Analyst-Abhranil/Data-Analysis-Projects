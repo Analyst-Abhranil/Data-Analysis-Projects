{
  "cells": [
    {
      "cell_type": "markdown",
      "metadata": {
        "id": "view-in-github",
        "colab_type": "text"
      },
      "source": [
        "<a href=\"https://colab.research.google.com/github/Analyst-Abhranil/Data-Analysis-Projects-using-Python/blob/main/Data_Visualization.ipynb\" target=\"_parent\"><img src=\"https://colab.research.google.com/assets/colab-badge.svg\" alt=\"Open In Colab\"/></a>"
      ]
    },
    {
      "cell_type": "code",
      "source": [
        "!git init\n"
      ],
      "metadata": {
        "colab": {
          "base_uri": "https://localhost:8080/"
        },
        "id": "nvF7K-aDBCpx",
        "outputId": "4125b0e8-c1c5-4121-b47b-aece2de29037"
      },
      "id": "nvF7K-aDBCpx",
      "execution_count": 1,
      "outputs": [
        {
          "output_type": "stream",
          "name": "stdout",
          "text": [
            "\u001b[33mhint: Using 'master' as the name for the initial branch. This default branch name\u001b[m\n",
            "\u001b[33mhint: is subject to change. To configure the initial branch name to use in all\u001b[m\n",
            "\u001b[33mhint: of your new repositories, which will suppress this warning, call:\u001b[m\n",
            "\u001b[33mhint: \u001b[m\n",
            "\u001b[33mhint: \tgit config --global init.defaultBranch <name>\u001b[m\n",
            "\u001b[33mhint: \u001b[m\n",
            "\u001b[33mhint: Names commonly chosen instead of 'master' are 'main', 'trunk' and\u001b[m\n",
            "\u001b[33mhint: 'development'. The just-created branch can be renamed via this command:\u001b[m\n",
            "\u001b[33mhint: \u001b[m\n",
            "\u001b[33mhint: \tgit branch -m <name>\u001b[m\n",
            "Initialized empty Git repository in /content/.git/\n"
          ]
        }
      ]
    },
    {
      "cell_type": "code",
      "source": [
        "!git branch -M main"
      ],
      "metadata": {
        "id": "egNSyLp1BCJU"
      },
      "id": "egNSyLp1BCJU",
      "execution_count": 3,
      "outputs": []
    },
    {
      "cell_type": "code",
      "source": [
        "!git remote -v"
      ],
      "metadata": {
        "id": "pivyThIIBNZE"
      },
      "id": "pivyThIIBNZE",
      "execution_count": 5,
      "outputs": []
    },
    {
      "cell_type": "code",
      "source": [],
      "metadata": {
        "id": "5z6xgQE_BU4b"
      },
      "id": "5z6xgQE_BU4b",
      "execution_count": null,
      "outputs": []
    },
    {
      "cell_type": "code",
      "source": [],
      "metadata": {
        "id": "obdOxytOBVJ3"
      },
      "id": "obdOxytOBVJ3",
      "execution_count": null,
      "outputs": []
    },
    {
      "cell_type": "code",
      "execution_count": null,
      "id": "63f164c3",
      "metadata": {
        "id": "63f164c3"
      },
      "outputs": [],
      "source": [
        "import numpy as np\n",
        "import pandas as pd\n",
        "import matplotlib.pyplot as plt\n",
        "import seaborn as sns"
      ]
    },
    {
      "cell_type": "code",
      "source": [],
      "metadata": {
        "id": "o1ExWqbABUEQ"
      },
      "id": "o1ExWqbABUEQ",
      "execution_count": null,
      "outputs": []
    },
    {
      "cell_type": "code",
      "execution_count": null,
      "id": "2f50635e",
      "metadata": {
        "id": "2f50635e",
        "outputId": "11a69767-ac8e-4bb2-b2a7-d4f4d2d2b25d"
      },
      "outputs": [
        {
          "data": {
            "text/html": [
              "<div>\n",
              "<style scoped>\n",
              "    .dataframe tbody tr th:only-of-type {\n",
              "        vertical-align: middle;\n",
              "    }\n",
              "\n",
              "    .dataframe tbody tr th {\n",
              "        vertical-align: top;\n",
              "    }\n",
              "\n",
              "    .dataframe thead th {\n",
              "        text-align: right;\n",
              "    }\n",
              "</style>\n",
              "<table border=\"1\" class=\"dataframe\">\n",
              "  <thead>\n",
              "    <tr style=\"text-align: right;\">\n",
              "      <th></th>\n",
              "      <th>TID</th>\n",
              "      <th>price</th>\n",
              "      <th>sale date</th>\n",
              "      <th>postcode</th>\n",
              "      <th>property type</th>\n",
              "      <th>new build</th>\n",
              "      <th>tenure</th>\n",
              "      <th>Paon</th>\n",
              "      <th>Saon</th>\n",
              "      <th>street</th>\n",
              "      <th>locality</th>\n",
              "      <th>town/city</th>\n",
              "      <th>district</th>\n",
              "      <th>county</th>\n",
              "      <th>ppd category</th>\n",
              "      <th>record status</th>\n",
              "    </tr>\n",
              "  </thead>\n",
              "  <tbody>\n",
              "    <tr>\n",
              "      <th>0</th>\n",
              "      <td>{666758D7-43A9-3363-E053-6B04A8C0D74E}</td>\n",
              "      <td>405000</td>\n",
              "      <td>2018-01-25</td>\n",
              "      <td>WR15 8LH</td>\n",
              "      <td>D</td>\n",
              "      <td>N</td>\n",
              "      <td>F</td>\n",
              "      <td>RAMBLERS WAY</td>\n",
              "      <td>NaN</td>\n",
              "      <td>NaN</td>\n",
              "      <td>BORASTON</td>\n",
              "      <td>TENBURY WELLS</td>\n",
              "      <td>SHROPSHIRE</td>\n",
              "      <td>SHROPSHIRE</td>\n",
              "      <td>A</td>\n",
              "      <td>A</td>\n",
              "    </tr>\n",
              "    <tr>\n",
              "      <th>1</th>\n",
              "      <td>{666758D7-43AA-3363-E053-6B04A8C0D74E}</td>\n",
              "      <td>315000</td>\n",
              "      <td>2018-01-23</td>\n",
              "      <td>SY7 8QA</td>\n",
              "      <td>D</td>\n",
              "      <td>N</td>\n",
              "      <td>F</td>\n",
              "      <td>MONT CENISE</td>\n",
              "      <td>NaN</td>\n",
              "      <td>NaN</td>\n",
              "      <td>CLUN</td>\n",
              "      <td>CRAVEN ARMS</td>\n",
              "      <td>SHROPSHIRE</td>\n",
              "      <td>SHROPSHIRE</td>\n",
              "      <td>A</td>\n",
              "      <td>A</td>\n",
              "    </tr>\n",
              "    <tr>\n",
              "      <th>2</th>\n",
              "      <td>{666758D7-43AD-3363-E053-6B04A8C0D74E}</td>\n",
              "      <td>165000</td>\n",
              "      <td>2018-01-19</td>\n",
              "      <td>SY1 2BF</td>\n",
              "      <td>T</td>\n",
              "      <td>Y</td>\n",
              "      <td>F</td>\n",
              "      <td>42</td>\n",
              "      <td>NaN</td>\n",
              "      <td>PENSON WAY</td>\n",
              "      <td>NaN</td>\n",
              "      <td>SHREWSBURY</td>\n",
              "      <td>SHROPSHIRE</td>\n",
              "      <td>SHROPSHIRE</td>\n",
              "      <td>A</td>\n",
              "      <td>A</td>\n",
              "    </tr>\n",
              "    <tr>\n",
              "      <th>3</th>\n",
              "      <td>{666758D7-43B0-3363-E053-6B04A8C0D74E}</td>\n",
              "      <td>370000</td>\n",
              "      <td>2018-01-22</td>\n",
              "      <td>SY8 4DF</td>\n",
              "      <td>D</td>\n",
              "      <td>N</td>\n",
              "      <td>F</td>\n",
              "      <td>WILLOW HEY</td>\n",
              "      <td>NaN</td>\n",
              "      <td>NaN</td>\n",
              "      <td>ASHFORD CARBONEL</td>\n",
              "      <td>LUDLOW</td>\n",
              "      <td>SHROPSHIRE</td>\n",
              "      <td>SHROPSHIRE</td>\n",
              "      <td>A</td>\n",
              "      <td>A</td>\n",
              "    </tr>\n",
              "    <tr>\n",
              "      <th>4</th>\n",
              "      <td>{666758D7-43B3-3363-E053-6B04A8C0D74E}</td>\n",
              "      <td>320000</td>\n",
              "      <td>2018-01-19</td>\n",
              "      <td>TF10 7ET</td>\n",
              "      <td>D</td>\n",
              "      <td>N</td>\n",
              "      <td>F</td>\n",
              "      <td>3</td>\n",
              "      <td>NaN</td>\n",
              "      <td>PRINCESS GARDENS</td>\n",
              "      <td>NaN</td>\n",
              "      <td>NEWPORT</td>\n",
              "      <td>WREKIN</td>\n",
              "      <td>WREKIN</td>\n",
              "      <td>A</td>\n",
              "      <td>A</td>\n",
              "    </tr>\n",
              "  </tbody>\n",
              "</table>\n",
              "</div>"
            ],
            "text/plain": [
              "                                      TID   price  sale date  postcode  \\\n",
              "0  {666758D7-43A9-3363-E053-6B04A8C0D74E}  405000 2018-01-25  WR15 8LH   \n",
              "1  {666758D7-43AA-3363-E053-6B04A8C0D74E}  315000 2018-01-23   SY7 8QA   \n",
              "2  {666758D7-43AD-3363-E053-6B04A8C0D74E}  165000 2018-01-19   SY1 2BF   \n",
              "3  {666758D7-43B0-3363-E053-6B04A8C0D74E}  370000 2018-01-22   SY8 4DF   \n",
              "4  {666758D7-43B3-3363-E053-6B04A8C0D74E}  320000 2018-01-19  TF10 7ET   \n",
              "\n",
              "  property type new build tenure          Paon Saon            street  \\\n",
              "0             D         N      F  RAMBLERS WAY  NaN               NaN   \n",
              "1             D         N      F   MONT CENISE  NaN               NaN   \n",
              "2             T         Y      F            42  NaN        PENSON WAY   \n",
              "3             D         N      F    WILLOW HEY  NaN               NaN   \n",
              "4             D         N      F             3  NaN  PRINCESS GARDENS   \n",
              "\n",
              "           locality      town/city    district      county ppd category  \\\n",
              "0          BORASTON  TENBURY WELLS  SHROPSHIRE  SHROPSHIRE            A   \n",
              "1              CLUN    CRAVEN ARMS  SHROPSHIRE  SHROPSHIRE            A   \n",
              "2               NaN     SHREWSBURY  SHROPSHIRE  SHROPSHIRE            A   \n",
              "3  ASHFORD CARBONEL         LUDLOW  SHROPSHIRE  SHROPSHIRE            A   \n",
              "4               NaN        NEWPORT      WREKIN      WREKIN            A   \n",
              "\n",
              "  record status  \n",
              "0             A  \n",
              "1             A  \n",
              "2             A  \n",
              "3             A  \n",
              "4             A  "
            ]
          },
          "execution_count": 4,
          "metadata": {},
          "output_type": "execute_result"
        }
      ],
      "source": [
        "pp_df=pd.read_csv('pp-2018.csv',names=['TID','price','sale date','postcode','property type','new build','tenure','Paon','Saon','street','locality','town/city','district','county','ppd category','record status'],parse_dates=['sale date'])\n",
        "pp_df.head()"
      ]
    },
    {
      "cell_type": "code",
      "execution_count": null,
      "id": "ac078478",
      "metadata": {
        "id": "ac078478",
        "outputId": "9eb3fd53-0b3e-484d-ed13-95c888ce8188"
      },
      "outputs": [
        {
          "data": {
            "text/html": [
              "<div>\n",
              "<style scoped>\n",
              "    .dataframe tbody tr th:only-of-type {\n",
              "        vertical-align: middle;\n",
              "    }\n",
              "\n",
              "    .dataframe tbody tr th {\n",
              "        vertical-align: top;\n",
              "    }\n",
              "\n",
              "    .dataframe thead th {\n",
              "        text-align: right;\n",
              "    }\n",
              "</style>\n",
              "<table border=\"1\" class=\"dataframe\">\n",
              "  <thead>\n",
              "    <tr style=\"text-align: right;\">\n",
              "      <th></th>\n",
              "      <th>TID</th>\n",
              "      <th>price</th>\n",
              "      <th>sale date</th>\n",
              "      <th>postcode</th>\n",
              "      <th>property type</th>\n",
              "      <th>new build</th>\n",
              "      <th>tenure</th>\n",
              "      <th>Paon</th>\n",
              "      <th>Saon</th>\n",
              "      <th>street</th>\n",
              "      <th>locality</th>\n",
              "      <th>town/city</th>\n",
              "      <th>district</th>\n",
              "      <th>county</th>\n",
              "      <th>ppd category</th>\n",
              "      <th>record status</th>\n",
              "    </tr>\n",
              "  </thead>\n",
              "  <tbody>\n",
              "    <tr>\n",
              "      <th>0</th>\n",
              "      <td>{666758D7-43A9-3363-E053-6B04A8C0D74E}</td>\n",
              "      <td>405000</td>\n",
              "      <td>2018-01-25</td>\n",
              "      <td>WR15 8LH</td>\n",
              "      <td>D</td>\n",
              "      <td>N</td>\n",
              "      <td>F</td>\n",
              "      <td>RAMBLERS WAY</td>\n",
              "      <td>NaN</td>\n",
              "      <td>NaN</td>\n",
              "      <td>BORASTON</td>\n",
              "      <td>TENBURY WELLS</td>\n",
              "      <td>SHROPSHIRE</td>\n",
              "      <td>SHROPSHIRE</td>\n",
              "      <td>A</td>\n",
              "      <td>A</td>\n",
              "    </tr>\n",
              "    <tr>\n",
              "      <th>1</th>\n",
              "      <td>{666758D7-43AA-3363-E053-6B04A8C0D74E}</td>\n",
              "      <td>315000</td>\n",
              "      <td>2018-01-23</td>\n",
              "      <td>SY7 8QA</td>\n",
              "      <td>D</td>\n",
              "      <td>N</td>\n",
              "      <td>F</td>\n",
              "      <td>MONT CENISE</td>\n",
              "      <td>NaN</td>\n",
              "      <td>NaN</td>\n",
              "      <td>CLUN</td>\n",
              "      <td>CRAVEN ARMS</td>\n",
              "      <td>SHROPSHIRE</td>\n",
              "      <td>SHROPSHIRE</td>\n",
              "      <td>A</td>\n",
              "      <td>A</td>\n",
              "    </tr>\n",
              "    <tr>\n",
              "      <th>2</th>\n",
              "      <td>{666758D7-43AD-3363-E053-6B04A8C0D74E}</td>\n",
              "      <td>165000</td>\n",
              "      <td>2018-01-19</td>\n",
              "      <td>SY1 2BF</td>\n",
              "      <td>T</td>\n",
              "      <td>Y</td>\n",
              "      <td>F</td>\n",
              "      <td>42</td>\n",
              "      <td>NaN</td>\n",
              "      <td>PENSON WAY</td>\n",
              "      <td>NaN</td>\n",
              "      <td>SHREWSBURY</td>\n",
              "      <td>SHROPSHIRE</td>\n",
              "      <td>SHROPSHIRE</td>\n",
              "      <td>A</td>\n",
              "      <td>A</td>\n",
              "    </tr>\n",
              "    <tr>\n",
              "      <th>3</th>\n",
              "      <td>{666758D7-43B0-3363-E053-6B04A8C0D74E}</td>\n",
              "      <td>370000</td>\n",
              "      <td>2018-01-22</td>\n",
              "      <td>SY8 4DF</td>\n",
              "      <td>D</td>\n",
              "      <td>N</td>\n",
              "      <td>F</td>\n",
              "      <td>WILLOW HEY</td>\n",
              "      <td>NaN</td>\n",
              "      <td>NaN</td>\n",
              "      <td>ASHFORD CARBONEL</td>\n",
              "      <td>LUDLOW</td>\n",
              "      <td>SHROPSHIRE</td>\n",
              "      <td>SHROPSHIRE</td>\n",
              "      <td>A</td>\n",
              "      <td>A</td>\n",
              "    </tr>\n",
              "    <tr>\n",
              "      <th>4</th>\n",
              "      <td>{666758D7-43B3-3363-E053-6B04A8C0D74E}</td>\n",
              "      <td>320000</td>\n",
              "      <td>2018-01-19</td>\n",
              "      <td>TF10 7ET</td>\n",
              "      <td>D</td>\n",
              "      <td>N</td>\n",
              "      <td>F</td>\n",
              "      <td>3</td>\n",
              "      <td>NaN</td>\n",
              "      <td>PRINCESS GARDENS</td>\n",
              "      <td>NaN</td>\n",
              "      <td>NEWPORT</td>\n",
              "      <td>WREKIN</td>\n",
              "      <td>WREKIN</td>\n",
              "      <td>A</td>\n",
              "      <td>A</td>\n",
              "    </tr>\n",
              "  </tbody>\n",
              "</table>\n",
              "</div>"
            ],
            "text/plain": [
              "                                      TID   price  sale date  postcode  \\\n",
              "0  {666758D7-43A9-3363-E053-6B04A8C0D74E}  405000 2018-01-25  WR15 8LH   \n",
              "1  {666758D7-43AA-3363-E053-6B04A8C0D74E}  315000 2018-01-23   SY7 8QA   \n",
              "2  {666758D7-43AD-3363-E053-6B04A8C0D74E}  165000 2018-01-19   SY1 2BF   \n",
              "3  {666758D7-43B0-3363-E053-6B04A8C0D74E}  370000 2018-01-22   SY8 4DF   \n",
              "4  {666758D7-43B3-3363-E053-6B04A8C0D74E}  320000 2018-01-19  TF10 7ET   \n",
              "\n",
              "  property type new build tenure          Paon Saon            street  \\\n",
              "0             D         N      F  RAMBLERS WAY  NaN               NaN   \n",
              "1             D         N      F   MONT CENISE  NaN               NaN   \n",
              "2             T         Y      F            42  NaN        PENSON WAY   \n",
              "3             D         N      F    WILLOW HEY  NaN               NaN   \n",
              "4             D         N      F             3  NaN  PRINCESS GARDENS   \n",
              "\n",
              "           locality      town/city    district      county ppd category  \\\n",
              "0          BORASTON  TENBURY WELLS  SHROPSHIRE  SHROPSHIRE            A   \n",
              "1              CLUN    CRAVEN ARMS  SHROPSHIRE  SHROPSHIRE            A   \n",
              "2               NaN     SHREWSBURY  SHROPSHIRE  SHROPSHIRE            A   \n",
              "3  ASHFORD CARBONEL         LUDLOW  SHROPSHIRE  SHROPSHIRE            A   \n",
              "4               NaN        NEWPORT      WREKIN      WREKIN            A   \n",
              "\n",
              "  record status  \n",
              "0             A  \n",
              "1             A  \n",
              "2             A  \n",
              "3             A  \n",
              "4             A  "
            ]
          },
          "execution_count": 17,
          "metadata": {},
          "output_type": "execute_result"
        }
      ],
      "source": [
        "df=pp_df.copy()\n",
        "df.head()"
      ]
    },
    {
      "cell_type": "code",
      "execution_count": null,
      "id": "89339662",
      "metadata": {
        "id": "89339662",
        "outputId": "0d0d4d6d-beb1-4512-c862-1bd6264e263e"
      },
      "outputs": [
        {
          "data": {
            "text/plain": [
              "(1024432, 16)"
            ]
          },
          "execution_count": 18,
          "metadata": {},
          "output_type": "execute_result"
        }
      ],
      "source": [
        "df.shape"
      ]
    },
    {
      "cell_type": "code",
      "execution_count": null,
      "id": "755cf9a4",
      "metadata": {
        "id": "755cf9a4",
        "outputId": "3cd0bf80-8150-47f0-fca5-87e3b0fe0d55"
      },
      "outputs": [
        {
          "name": "stdout",
          "output_type": "stream",
          "text": [
            "<class 'pandas.core.frame.DataFrame'>\n",
            "RangeIndex: 1024432 entries, 0 to 1024431\n",
            "Data columns (total 16 columns):\n",
            " #   Column         Non-Null Count    Dtype         \n",
            "---  ------         --------------    -----         \n",
            " 0   TID            1024432 non-null  object        \n",
            " 1   price          1024432 non-null  int64         \n",
            " 2   sale date      1024432 non-null  datetime64[ns]\n",
            " 3   postcode       1018507 non-null  object        \n",
            " 4   property type  1024432 non-null  object        \n",
            " 5   new build      1024432 non-null  object        \n",
            " 6   tenure         1024432 non-null  object        \n",
            " 7   Paon           1024432 non-null  object        \n",
            " 8   Saon           140446 non-null   object        \n",
            " 9   street         1004772 non-null  object        \n",
            " 10  locality       386023 non-null   object        \n",
            " 11  town/city      1024432 non-null  object        \n",
            " 12  district       1024428 non-null  object        \n",
            " 13  county         1024432 non-null  object        \n",
            " 14  ppd category   1024432 non-null  object        \n",
            " 15  record status  1024432 non-null  object        \n",
            "dtypes: datetime64[ns](1), int64(1), object(14)\n",
            "memory usage: 125.1+ MB\n"
          ]
        }
      ],
      "source": [
        "df.info()"
      ]
    },
    {
      "cell_type": "markdown",
      "id": "e62fcf72",
      "metadata": {
        "id": "e62fcf72"
      },
      "source": [
        "Select only record type 'A', property type other than 'O' and transactions for only 2018"
      ]
    },
    {
      "cell_type": "code",
      "execution_count": null,
      "id": "7e498830",
      "metadata": {
        "id": "7e498830"
      },
      "outputs": [],
      "source": [
        "df=df[df['record status']=='A']"
      ]
    },
    {
      "cell_type": "code",
      "execution_count": null,
      "id": "5b9c763f",
      "metadata": {
        "id": "5b9c763f"
      },
      "outputs": [],
      "source": [
        "df=df[df['property type']!='O']"
      ]
    },
    {
      "cell_type": "code",
      "execution_count": null,
      "id": "08aae39c",
      "metadata": {
        "id": "08aae39c"
      },
      "outputs": [],
      "source": [
        "df=df[df['sale date'].dt.year==2018]"
      ]
    },
    {
      "cell_type": "code",
      "execution_count": null,
      "id": "aa7245b2",
      "metadata": {
        "id": "aa7245b2",
        "outputId": "4d8411ff-362c-4981-cf05-812ea7e12376"
      },
      "outputs": [
        {
          "data": {
            "text/plain": [
              "(959003, 16)"
            ]
          },
          "execution_count": 27,
          "metadata": {},
          "output_type": "execute_result"
        }
      ],
      "source": [
        "df.shape"
      ]
    },
    {
      "cell_type": "markdown",
      "id": "35fed04b",
      "metadata": {
        "id": "35fed04b"
      },
      "source": [
        "# Find the trend of sales volumes across months in the year 2018"
      ]
    },
    {
      "cell_type": "code",
      "execution_count": null,
      "id": "5bf49f62",
      "metadata": {
        "id": "5bf49f62"
      },
      "outputs": [],
      "source": [
        "df['month']=df['sale date'].dt.month"
      ]
    },
    {
      "cell_type": "code",
      "execution_count": null,
      "id": "bb8bd484",
      "metadata": {
        "id": "bb8bd484",
        "outputId": "2227ff5e-c2e9-4411-f675-07010cca5db3"
      },
      "outputs": [
        {
          "data": {
            "text/html": [
              "<div>\n",
              "<style scoped>\n",
              "    .dataframe tbody tr th:only-of-type {\n",
              "        vertical-align: middle;\n",
              "    }\n",
              "\n",
              "    .dataframe tbody tr th {\n",
              "        vertical-align: top;\n",
              "    }\n",
              "\n",
              "    .dataframe thead th {\n",
              "        text-align: right;\n",
              "    }\n",
              "</style>\n",
              "<table border=\"1\" class=\"dataframe\">\n",
              "  <thead>\n",
              "    <tr style=\"text-align: right;\">\n",
              "      <th></th>\n",
              "      <th>TID</th>\n",
              "      <th>price</th>\n",
              "      <th>sale date</th>\n",
              "      <th>postcode</th>\n",
              "      <th>property type</th>\n",
              "      <th>new build</th>\n",
              "      <th>tenure</th>\n",
              "      <th>Paon</th>\n",
              "      <th>Saon</th>\n",
              "      <th>street</th>\n",
              "      <th>locality</th>\n",
              "      <th>town/city</th>\n",
              "      <th>district</th>\n",
              "      <th>county</th>\n",
              "      <th>ppd category</th>\n",
              "      <th>record status</th>\n",
              "      <th>month</th>\n",
              "    </tr>\n",
              "  </thead>\n",
              "  <tbody>\n",
              "    <tr>\n",
              "      <th>0</th>\n",
              "      <td>{666758D7-43A9-3363-E053-6B04A8C0D74E}</td>\n",
              "      <td>405000</td>\n",
              "      <td>2018-01-25</td>\n",
              "      <td>WR15 8LH</td>\n",
              "      <td>D</td>\n",
              "      <td>N</td>\n",
              "      <td>F</td>\n",
              "      <td>RAMBLERS WAY</td>\n",
              "      <td>NaN</td>\n",
              "      <td>NaN</td>\n",
              "      <td>BORASTON</td>\n",
              "      <td>TENBURY WELLS</td>\n",
              "      <td>SHROPSHIRE</td>\n",
              "      <td>SHROPSHIRE</td>\n",
              "      <td>A</td>\n",
              "      <td>A</td>\n",
              "      <td>1</td>\n",
              "    </tr>\n",
              "    <tr>\n",
              "      <th>1</th>\n",
              "      <td>{666758D7-43AA-3363-E053-6B04A8C0D74E}</td>\n",
              "      <td>315000</td>\n",
              "      <td>2018-01-23</td>\n",
              "      <td>SY7 8QA</td>\n",
              "      <td>D</td>\n",
              "      <td>N</td>\n",
              "      <td>F</td>\n",
              "      <td>MONT CENISE</td>\n",
              "      <td>NaN</td>\n",
              "      <td>NaN</td>\n",
              "      <td>CLUN</td>\n",
              "      <td>CRAVEN ARMS</td>\n",
              "      <td>SHROPSHIRE</td>\n",
              "      <td>SHROPSHIRE</td>\n",
              "      <td>A</td>\n",
              "      <td>A</td>\n",
              "      <td>1</td>\n",
              "    </tr>\n",
              "    <tr>\n",
              "      <th>2</th>\n",
              "      <td>{666758D7-43AD-3363-E053-6B04A8C0D74E}</td>\n",
              "      <td>165000</td>\n",
              "      <td>2018-01-19</td>\n",
              "      <td>SY1 2BF</td>\n",
              "      <td>T</td>\n",
              "      <td>Y</td>\n",
              "      <td>F</td>\n",
              "      <td>42</td>\n",
              "      <td>NaN</td>\n",
              "      <td>PENSON WAY</td>\n",
              "      <td>NaN</td>\n",
              "      <td>SHREWSBURY</td>\n",
              "      <td>SHROPSHIRE</td>\n",
              "      <td>SHROPSHIRE</td>\n",
              "      <td>A</td>\n",
              "      <td>A</td>\n",
              "      <td>1</td>\n",
              "    </tr>\n",
              "    <tr>\n",
              "      <th>3</th>\n",
              "      <td>{666758D7-43B0-3363-E053-6B04A8C0D74E}</td>\n",
              "      <td>370000</td>\n",
              "      <td>2018-01-22</td>\n",
              "      <td>SY8 4DF</td>\n",
              "      <td>D</td>\n",
              "      <td>N</td>\n",
              "      <td>F</td>\n",
              "      <td>WILLOW HEY</td>\n",
              "      <td>NaN</td>\n",
              "      <td>NaN</td>\n",
              "      <td>ASHFORD CARBONEL</td>\n",
              "      <td>LUDLOW</td>\n",
              "      <td>SHROPSHIRE</td>\n",
              "      <td>SHROPSHIRE</td>\n",
              "      <td>A</td>\n",
              "      <td>A</td>\n",
              "      <td>1</td>\n",
              "    </tr>\n",
              "    <tr>\n",
              "      <th>4</th>\n",
              "      <td>{666758D7-43B3-3363-E053-6B04A8C0D74E}</td>\n",
              "      <td>320000</td>\n",
              "      <td>2018-01-19</td>\n",
              "      <td>TF10 7ET</td>\n",
              "      <td>D</td>\n",
              "      <td>N</td>\n",
              "      <td>F</td>\n",
              "      <td>3</td>\n",
              "      <td>NaN</td>\n",
              "      <td>PRINCESS GARDENS</td>\n",
              "      <td>NaN</td>\n",
              "      <td>NEWPORT</td>\n",
              "      <td>WREKIN</td>\n",
              "      <td>WREKIN</td>\n",
              "      <td>A</td>\n",
              "      <td>A</td>\n",
              "      <td>1</td>\n",
              "    </tr>\n",
              "  </tbody>\n",
              "</table>\n",
              "</div>"
            ],
            "text/plain": [
              "                                      TID   price  sale date  postcode  \\\n",
              "0  {666758D7-43A9-3363-E053-6B04A8C0D74E}  405000 2018-01-25  WR15 8LH   \n",
              "1  {666758D7-43AA-3363-E053-6B04A8C0D74E}  315000 2018-01-23   SY7 8QA   \n",
              "2  {666758D7-43AD-3363-E053-6B04A8C0D74E}  165000 2018-01-19   SY1 2BF   \n",
              "3  {666758D7-43B0-3363-E053-6B04A8C0D74E}  370000 2018-01-22   SY8 4DF   \n",
              "4  {666758D7-43B3-3363-E053-6B04A8C0D74E}  320000 2018-01-19  TF10 7ET   \n",
              "\n",
              "  property type new build tenure          Paon Saon            street  \\\n",
              "0             D         N      F  RAMBLERS WAY  NaN               NaN   \n",
              "1             D         N      F   MONT CENISE  NaN               NaN   \n",
              "2             T         Y      F            42  NaN        PENSON WAY   \n",
              "3             D         N      F    WILLOW HEY  NaN               NaN   \n",
              "4             D         N      F             3  NaN  PRINCESS GARDENS   \n",
              "\n",
              "           locality      town/city    district      county ppd category  \\\n",
              "0          BORASTON  TENBURY WELLS  SHROPSHIRE  SHROPSHIRE            A   \n",
              "1              CLUN    CRAVEN ARMS  SHROPSHIRE  SHROPSHIRE            A   \n",
              "2               NaN     SHREWSBURY  SHROPSHIRE  SHROPSHIRE            A   \n",
              "3  ASHFORD CARBONEL         LUDLOW  SHROPSHIRE  SHROPSHIRE            A   \n",
              "4               NaN        NEWPORT      WREKIN      WREKIN            A   \n",
              "\n",
              "  record status  month  \n",
              "0             A      1  \n",
              "1             A      1  \n",
              "2             A      1  \n",
              "3             A      1  \n",
              "4             A      1  "
            ]
          },
          "execution_count": 29,
          "metadata": {},
          "output_type": "execute_result"
        }
      ],
      "source": [
        "df.head()"
      ]
    },
    {
      "cell_type": "code",
      "execution_count": null,
      "id": "2ad09f22",
      "metadata": {
        "id": "2ad09f22",
        "outputId": "46326b9e-6db0-4e64-a6d4-3fc26da453b4"
      },
      "outputs": [
        {
          "data": {
            "text/plain": [
              "1     65004\n",
              "2     66959\n",
              "3     78070\n",
              "4     67094\n",
              "5     76325\n",
              "6     90178\n",
              "7     83082\n",
              "8     95382\n",
              "9     77836\n",
              "10    86892\n",
              "11    92427\n",
              "12    79754\n",
              "Name: month, dtype: int64"
            ]
          },
          "execution_count": 30,
          "metadata": {},
          "output_type": "execute_result"
        }
      ],
      "source": [
        "monthly_sales_volume=df['month'].value_counts().sort_index()\n",
        "monthly_sales_volume"
      ]
    },
    {
      "cell_type": "code",
      "execution_count": null,
      "id": "33f13d7c",
      "metadata": {
        "id": "33f13d7c",
        "outputId": "f4829216-a2b6-459c-f8b1-b14329a0e94d"
      },
      "outputs": [
        {
          "data": {
            "text/plain": [
              "Text(0, 0.5, 'Total Sales')"
            ]
          },
          "execution_count": 35,
          "metadata": {},
          "output_type": "execute_result"
        },
        {
          "data": {
            "image/png": "[encoded data removed]",
            "text/plain": [
              "<Figure size 720x360 with 1 Axes>"
            ]
          },
          "metadata": {
            "needs_background": "light"
          },
          "output_type": "display_data"
        }
      ],
      "source": [
        "plt.rcParams['figure.figsize']=(10,5)\n",
        "plt.plot(monthly_sales_volume)\n",
        "plt.title('Sales Volumes across months in the year 2018')\n",
        "plt.xlabel('Months')\n",
        "plt.ylabel('Total Sales')"
      ]
    },
    {
      "cell_type": "markdown",
      "id": "1ed22dac",
      "metadata": {
        "id": "1ed22dac"
      },
      "source": [
        "# Problem 2: Observe the daily sales volume in the month of July"
      ]
    },
    {
      "cell_type": "code",
      "execution_count": null,
      "id": "a784c26f",
      "metadata": {
        "id": "a784c26f",
        "outputId": "cde2d301-66fb-4849-fa46-fb2e1457da2f"
      },
      "outputs": [
        {
          "data": {
            "text/html": [
              "<div>\n",
              "<style scoped>\n",
              "    .dataframe tbody tr th:only-of-type {\n",
              "        vertical-align: middle;\n",
              "    }\n",
              "\n",
              "    .dataframe tbody tr th {\n",
              "        vertical-align: top;\n",
              "    }\n",
              "\n",
              "    .dataframe thead th {\n",
              "        text-align: right;\n",
              "    }\n",
              "</style>\n",
              "<table border=\"1\" class=\"dataframe\">\n",
              "  <thead>\n",
              "    <tr style=\"text-align: right;\">\n",
              "      <th></th>\n",
              "      <th>TID</th>\n",
              "      <th>price</th>\n",
              "      <th>sale date</th>\n",
              "      <th>postcode</th>\n",
              "      <th>property type</th>\n",
              "      <th>new build</th>\n",
              "      <th>tenure</th>\n",
              "      <th>Paon</th>\n",
              "      <th>Saon</th>\n",
              "      <th>street</th>\n",
              "      <th>locality</th>\n",
              "      <th>town/city</th>\n",
              "      <th>district</th>\n",
              "      <th>county</th>\n",
              "      <th>ppd category</th>\n",
              "      <th>record status</th>\n",
              "      <th>month</th>\n",
              "    </tr>\n",
              "  </thead>\n",
              "  <tbody>\n",
              "    <tr>\n",
              "      <th>835</th>\n",
              "      <td>{79A74E21-D135-1289-E053-6B04A8C01627}</td>\n",
              "      <td>84000</td>\n",
              "      <td>2018-07-20</td>\n",
              "      <td>OL9 8LS</td>\n",
              "      <td>T</td>\n",
              "      <td>N</td>\n",
              "      <td>L</td>\n",
              "      <td>6</td>\n",
              "      <td>NaN</td>\n",
              "      <td>WHITEGATE LANE</td>\n",
              "      <td>CHADDERTON</td>\n",
              "      <td>OLDHAM</td>\n",
              "      <td>OLDHAM</td>\n",
              "      <td>GREATER MANCHESTER</td>\n",
              "      <td>A</td>\n",
              "      <td>A</td>\n",
              "      <td>7</td>\n",
              "    </tr>\n",
              "    <tr>\n",
              "      <th>1044</th>\n",
              "      <td>{773788C2-6D59-2CE4-E053-6C04A8C05E57}</td>\n",
              "      <td>228000</td>\n",
              "      <td>2018-07-27</td>\n",
              "      <td>EX16 6AE</td>\n",
              "      <td>D</td>\n",
              "      <td>N</td>\n",
              "      <td>F</td>\n",
              "      <td>11</td>\n",
              "      <td>NaN</td>\n",
              "      <td>MERCERS CLOSE</td>\n",
              "      <td>NaN</td>\n",
              "      <td>TIVERTON</td>\n",
              "      <td>MID DEVON</td>\n",
              "      <td>DEVON</td>\n",
              "      <td>A</td>\n",
              "      <td>A</td>\n",
              "      <td>7</td>\n",
              "    </tr>\n",
              "    <tr>\n",
              "      <th>1055</th>\n",
              "      <td>{773788C2-6D60-2CE4-E053-6C04A8C05E57}</td>\n",
              "      <td>330000</td>\n",
              "      <td>2018-07-30</td>\n",
              "      <td>EX16 7BL</td>\n",
              "      <td>T</td>\n",
              "      <td>N</td>\n",
              "      <td>F</td>\n",
              "      <td>HOLLY TREE BARN</td>\n",
              "      <td>NaN</td>\n",
              "      <td>CHAINS ROAD</td>\n",
              "      <td>SAMPFORD PEVERELL</td>\n",
              "      <td>TIVERTON</td>\n",
              "      <td>MID DEVON</td>\n",
              "      <td>DEVON</td>\n",
              "      <td>A</td>\n",
              "      <td>A</td>\n",
              "      <td>7</td>\n",
              "    </tr>\n",
              "    <tr>\n",
              "      <th>1123</th>\n",
              "      <td>{79A74E21-B602-1289-E053-6B04A8C01627}</td>\n",
              "      <td>140000</td>\n",
              "      <td>2018-07-25</td>\n",
              "      <td>OL11 4DD</td>\n",
              "      <td>S</td>\n",
              "      <td>N</td>\n",
              "      <td>L</td>\n",
              "      <td>24</td>\n",
              "      <td>NaN</td>\n",
              "      <td>LINKS VIEW</td>\n",
              "      <td>NaN</td>\n",
              "      <td>ROCHDALE</td>\n",
              "      <td>ROCHDALE</td>\n",
              "      <td>GREATER MANCHESTER</td>\n",
              "      <td>A</td>\n",
              "      <td>A</td>\n",
              "      <td>7</td>\n",
              "    </tr>\n",
              "    <tr>\n",
              "      <th>1214</th>\n",
              "      <td>{79A74E21-BC74-1289-E053-6B04A8C01627}</td>\n",
              "      <td>375000</td>\n",
              "      <td>2018-07-26</td>\n",
              "      <td>PR3 0ZL</td>\n",
              "      <td>D</td>\n",
              "      <td>N</td>\n",
              "      <td>F</td>\n",
              "      <td>THE COTTAGE</td>\n",
              "      <td>NaN</td>\n",
              "      <td>WEST END</td>\n",
              "      <td>GREAT ECCLESTON</td>\n",
              "      <td>PRESTON</td>\n",
              "      <td>WYRE</td>\n",
              "      <td>LANCASHIRE</td>\n",
              "      <td>A</td>\n",
              "      <td>A</td>\n",
              "      <td>7</td>\n",
              "    </tr>\n",
              "    <tr>\n",
              "      <th>...</th>\n",
              "      <td>...</td>\n",
              "      <td>...</td>\n",
              "      <td>...</td>\n",
              "      <td>...</td>\n",
              "      <td>...</td>\n",
              "      <td>...</td>\n",
              "      <td>...</td>\n",
              "      <td>...</td>\n",
              "      <td>...</td>\n",
              "      <td>...</td>\n",
              "      <td>...</td>\n",
              "      <td>...</td>\n",
              "      <td>...</td>\n",
              "      <td>...</td>\n",
              "      <td>...</td>\n",
              "      <td>...</td>\n",
              "      <td>...</td>\n",
              "    </tr>\n",
              "    <tr>\n",
              "      <th>1024095</th>\n",
              "      <td>{80E1AA98-B375-7BF8-E053-6C04A8C00BF2}</td>\n",
              "      <td>483000</td>\n",
              "      <td>2018-07-30</td>\n",
              "      <td>SE22 8PS</td>\n",
              "      <td>F</td>\n",
              "      <td>N</td>\n",
              "      <td>L</td>\n",
              "      <td>62B</td>\n",
              "      <td>NaN</td>\n",
              "      <td>EAST DULWICH GROVE</td>\n",
              "      <td>EAST DULWICH</td>\n",
              "      <td>LONDON</td>\n",
              "      <td>SOUTHWARK</td>\n",
              "      <td>GREATER LONDON</td>\n",
              "      <td>A</td>\n",
              "      <td>A</td>\n",
              "      <td>7</td>\n",
              "    </tr>\n",
              "    <tr>\n",
              "      <th>1024231</th>\n",
              "      <td>{80E1AA98-BA30-7BF8-E053-6C04A8C00BF2}</td>\n",
              "      <td>219000</td>\n",
              "      <td>2018-07-02</td>\n",
              "      <td>DA1 5WU</td>\n",
              "      <td>F</td>\n",
              "      <td>Y</td>\n",
              "      <td>L</td>\n",
              "      <td>92</td>\n",
              "      <td>NaN</td>\n",
              "      <td>MILL POND ROAD</td>\n",
              "      <td>NaN</td>\n",
              "      <td>DARTFORD</td>\n",
              "      <td>DARTFORD</td>\n",
              "      <td>KENT</td>\n",
              "      <td>A</td>\n",
              "      <td>A</td>\n",
              "      <td>7</td>\n",
              "    </tr>\n",
              "    <tr>\n",
              "      <th>1024234</th>\n",
              "      <td>{80E1AA98-BA34-7BF8-E053-6C04A8C00BF2}</td>\n",
              "      <td>332500</td>\n",
              "      <td>2018-07-20</td>\n",
              "      <td>DA1 5RF</td>\n",
              "      <td>T</td>\n",
              "      <td>Y</td>\n",
              "      <td>F</td>\n",
              "      <td>16</td>\n",
              "      <td>NaN</td>\n",
              "      <td>RAINBOW GARDENS</td>\n",
              "      <td>NaN</td>\n",
              "      <td>DARTFORD</td>\n",
              "      <td>DARTFORD</td>\n",
              "      <td>KENT</td>\n",
              "      <td>A</td>\n",
              "      <td>A</td>\n",
              "      <td>7</td>\n",
              "    </tr>\n",
              "    <tr>\n",
              "      <th>1024267</th>\n",
              "      <td>{80E1AA98-9136-7BF8-E053-6C04A8C00BF2}</td>\n",
              "      <td>637500</td>\n",
              "      <td>2018-07-30</td>\n",
              "      <td>SW19 4QP</td>\n",
              "      <td>F</td>\n",
              "      <td>N</td>\n",
              "      <td>L</td>\n",
              "      <td>ROCKWELL COURT, 48</td>\n",
              "      <td>FLAT 2</td>\n",
              "      <td>RIDGWAY</td>\n",
              "      <td>NaN</td>\n",
              "      <td>LONDON</td>\n",
              "      <td>MERTON</td>\n",
              "      <td>GREATER LONDON</td>\n",
              "      <td>A</td>\n",
              "      <td>A</td>\n",
              "      <td>7</td>\n",
              "    </tr>\n",
              "    <tr>\n",
              "      <th>1024270</th>\n",
              "      <td>{80E1AA98-913A-7BF8-E053-6C04A8C00BF2}</td>\n",
              "      <td>128000</td>\n",
              "      <td>2018-07-20</td>\n",
              "      <td>CR4 4NG</td>\n",
              "      <td>F</td>\n",
              "      <td>N</td>\n",
              "      <td>L</td>\n",
              "      <td>LEWES COURT, 1</td>\n",
              "      <td>FLAT 50</td>\n",
              "      <td>CHATSWORTH PLACE</td>\n",
              "      <td>NaN</td>\n",
              "      <td>MITCHAM</td>\n",
              "      <td>MERTON</td>\n",
              "      <td>GREATER LONDON</td>\n",
              "      <td>A</td>\n",
              "      <td>A</td>\n",
              "      <td>7</td>\n",
              "    </tr>\n",
              "  </tbody>\n",
              "</table>\n",
              "<p>83082 rows × 17 columns</p>\n",
              "</div>"
            ],
            "text/plain": [
              "                                            TID   price  sale date  postcode  \\\n",
              "835      {79A74E21-D135-1289-E053-6B04A8C01627}   84000 2018-07-20   OL9 8LS   \n",
              "1044     {773788C2-6D59-2CE4-E053-6C04A8C05E57}  228000 2018-07-27  EX16 6AE   \n",
              "1055     {773788C2-6D60-2CE4-E053-6C04A8C05E57}  330000 2018-07-30  EX16 7BL   \n",
              "1123     {79A74E21-B602-1289-E053-6B04A8C01627}  140000 2018-07-25  OL11 4DD   \n",
              "1214     {79A74E21-BC74-1289-E053-6B04A8C01627}  375000 2018-07-26   PR3 0ZL   \n",
              "...                                         ...     ...        ...       ...   \n",
              "1024095  {80E1AA98-B375-7BF8-E053-6C04A8C00BF2}  483000 2018-07-30  SE22 8PS   \n",
              "1024231  {80E1AA98-BA30-7BF8-E053-6C04A8C00BF2}  219000 2018-07-02   DA1 5WU   \n",
              "1024234  {80E1AA98-BA34-7BF8-E053-6C04A8C00BF2}  332500 2018-07-20   DA1 5RF   \n",
              "1024267  {80E1AA98-9136-7BF8-E053-6C04A8C00BF2}  637500 2018-07-30  SW19 4QP   \n",
              "1024270  {80E1AA98-913A-7BF8-E053-6C04A8C00BF2}  128000 2018-07-20   CR4 4NG   \n",
              "\n",
              "        property type new build tenure                Paon     Saon  \\\n",
              "835                 T         N      L                   6      NaN   \n",
              "1044                D         N      F                  11      NaN   \n",
              "1055                T         N      F     HOLLY TREE BARN      NaN   \n",
              "1123                S         N      L                  24      NaN   \n",
              "1214                D         N      F         THE COTTAGE      NaN   \n",
              "...               ...       ...    ...                 ...      ...   \n",
              "1024095             F         N      L                 62B      NaN   \n",
              "1024231             F         Y      L                  92      NaN   \n",
              "1024234             T         Y      F                  16      NaN   \n",
              "1024267             F         N      L  ROCKWELL COURT, 48   FLAT 2   \n",
              "1024270             F         N      L      LEWES COURT, 1  FLAT 50   \n",
              "\n",
              "                     street           locality town/city   district  \\\n",
              "835          WHITEGATE LANE         CHADDERTON    OLDHAM     OLDHAM   \n",
              "1044          MERCERS CLOSE                NaN  TIVERTON  MID DEVON   \n",
              "1055            CHAINS ROAD  SAMPFORD PEVERELL  TIVERTON  MID DEVON   \n",
              "1123             LINKS VIEW                NaN  ROCHDALE   ROCHDALE   \n",
              "1214               WEST END    GREAT ECCLESTON   PRESTON       WYRE   \n",
              "...                     ...                ...       ...        ...   \n",
              "1024095  EAST DULWICH GROVE       EAST DULWICH    LONDON  SOUTHWARK   \n",
              "1024231      MILL POND ROAD                NaN  DARTFORD   DARTFORD   \n",
              "1024234     RAINBOW GARDENS                NaN  DARTFORD   DARTFORD   \n",
              "1024267             RIDGWAY                NaN    LONDON     MERTON   \n",
              "1024270    CHATSWORTH PLACE                NaN   MITCHAM     MERTON   \n",
              "\n",
              "                     county ppd category record status  month  \n",
              "835      GREATER MANCHESTER            A             A      7  \n",
              "1044                  DEVON            A             A      7  \n",
              "1055                  DEVON            A             A      7  \n",
              "1123     GREATER MANCHESTER            A             A      7  \n",
              "1214             LANCASHIRE            A             A      7  \n",
              "...                     ...          ...           ...    ...  \n",
              "1024095      GREATER LONDON            A             A      7  \n",
              "1024231                KENT            A             A      7  \n",
              "1024234                KENT            A             A      7  \n",
              "1024267      GREATER LONDON            A             A      7  \n",
              "1024270      GREATER LONDON            A             A      7  \n",
              "\n",
              "[83082 rows x 17 columns]"
            ]
          },
          "execution_count": 36,
          "metadata": {},
          "output_type": "execute_result"
        }
      ],
      "source": [
        "july_df=df[df['month']==7]\n",
        "july_df"
      ]
    },
    {
      "cell_type": "code",
      "execution_count": null,
      "id": "6b1b619b",
      "metadata": {
        "id": "6b1b619b",
        "outputId": "9a707656-70dc-4fec-e144-89fffddcf00b"
      },
      "outputs": [
        {
          "data": {
            "text/plain": [
              "2018-07-01       18\n",
              "2018-07-02     2931\n",
              "2018-07-03     1828\n",
              "2018-07-04     2064\n",
              "2018-07-05     2358\n",
              "2018-07-06     8400\n",
              "2018-07-07       18\n",
              "2018-07-08       11\n",
              "2018-07-09     2259\n",
              "2018-07-10     1985\n",
              "2018-07-11     2165\n",
              "2018-07-12     3568\n",
              "2018-07-13     6561\n",
              "2018-07-14       25\n",
              "2018-07-15       20\n",
              "2018-07-16     2883\n",
              "2018-07-17     1933\n",
              "2018-07-18     2438\n",
              "2018-07-19     2571\n",
              "2018-07-20     8802\n",
              "2018-07-21       21\n",
              "2018-07-22       13\n",
              "2018-07-23     2742\n",
              "2018-07-24     2116\n",
              "2018-07-25     2710\n",
              "2018-07-26     2965\n",
              "2018-07-27    11145\n",
              "2018-07-28       31\n",
              "2018-07-29       25\n",
              "2018-07-30     3429\n",
              "2018-07-31     5047\n",
              "Name: sale date, dtype: int64"
            ]
          },
          "execution_count": 38,
          "metadata": {},
          "output_type": "execute_result"
        }
      ],
      "source": [
        "daily_sales_volume=july_df['sale date'].value_counts().sort_index()\n",
        "daily_sales_volume"
      ]
    },
    {
      "cell_type": "code",
      "execution_count": null,
      "id": "51020aca",
      "metadata": {
        "id": "51020aca",
        "outputId": "8fefb493-c895-4fda-f643-229d07e33cfd"
      },
      "outputs": [
        {
          "data": {
            "text/plain": [
              "Text(0, 0.5, 'Total Sales')"
            ]
          },
          "execution_count": 39,
          "metadata": {},
          "output_type": "execute_result"
        },
        {
          "data": {
            "image/png": "[encoded data removed]",
            "text/plain": [
              "<Figure size 1152x576 with 1 Axes>"
            ]
          },
          "metadata": {
            "needs_background": "light"
          },
          "output_type": "display_data"
        }
      ],
      "source": [
        "plt.rcParams['figure.figsize']=(16,8)\n",
        "plt.plot(daily_sales_volume)\n",
        "plt.title('Daily Sales in the Month of July')\n",
        "plt.xlabel('Days')\n",
        "plt.ylabel('Total Sales')"
      ]
    },
    {
      "cell_type": "markdown",
      "id": "d29222e1",
      "metadata": {
        "id": "d29222e1"
      },
      "source": [
        "# Problem 3: Compare the daily Sales volume of different property type in July"
      ]
    },
    {
      "cell_type": "code",
      "execution_count": null,
      "id": "8ae5b388",
      "metadata": {
        "id": "8ae5b388",
        "outputId": "fdec096a-6a63-432e-d53a-ee583fee25d7"
      },
      "outputs": [
        {
          "data": {
            "text/html": [
              "<div>\n",
              "<style scoped>\n",
              "    .dataframe tbody tr th:only-of-type {\n",
              "        vertical-align: middle;\n",
              "    }\n",
              "\n",
              "    .dataframe tbody tr th {\n",
              "        vertical-align: top;\n",
              "    }\n",
              "\n",
              "    .dataframe thead th {\n",
              "        text-align: right;\n",
              "    }\n",
              "</style>\n",
              "<table border=\"1\" class=\"dataframe\">\n",
              "  <thead>\n",
              "    <tr style=\"text-align: right;\">\n",
              "      <th>property type</th>\n",
              "      <th>D</th>\n",
              "      <th>F</th>\n",
              "      <th>S</th>\n",
              "      <th>T</th>\n",
              "    </tr>\n",
              "    <tr>\n",
              "      <th>sale date</th>\n",
              "      <th></th>\n",
              "      <th></th>\n",
              "      <th></th>\n",
              "      <th></th>\n",
              "    </tr>\n",
              "  </thead>\n",
              "  <tbody>\n",
              "    <tr>\n",
              "      <th>2018-07-01</th>\n",
              "      <td>4</td>\n",
              "      <td>2</td>\n",
              "      <td>7</td>\n",
              "      <td>5</td>\n",
              "    </tr>\n",
              "    <tr>\n",
              "      <th>2018-07-02</th>\n",
              "      <td>705</td>\n",
              "      <td>564</td>\n",
              "      <td>782</td>\n",
              "      <td>880</td>\n",
              "    </tr>\n",
              "    <tr>\n",
              "      <th>2018-07-03</th>\n",
              "      <td>443</td>\n",
              "      <td>426</td>\n",
              "      <td>436</td>\n",
              "      <td>523</td>\n",
              "    </tr>\n",
              "    <tr>\n",
              "      <th>2018-07-04</th>\n",
              "      <td>529</td>\n",
              "      <td>401</td>\n",
              "      <td>528</td>\n",
              "      <td>606</td>\n",
              "    </tr>\n",
              "    <tr>\n",
              "      <th>2018-07-05</th>\n",
              "      <td>623</td>\n",
              "      <td>453</td>\n",
              "      <td>614</td>\n",
              "      <td>668</td>\n",
              "    </tr>\n",
              "    <tr>\n",
              "      <th>2018-07-06</th>\n",
              "      <td>1955</td>\n",
              "      <td>1662</td>\n",
              "      <td>2422</td>\n",
              "      <td>2361</td>\n",
              "    </tr>\n",
              "    <tr>\n",
              "      <th>2018-07-07</th>\n",
              "      <td>7</td>\n",
              "      <td>6</td>\n",
              "      <td>2</td>\n",
              "      <td>3</td>\n",
              "    </tr>\n",
              "    <tr>\n",
              "      <th>2018-07-08</th>\n",
              "      <td>2</td>\n",
              "      <td>4</td>\n",
              "      <td>1</td>\n",
              "      <td>4</td>\n",
              "    </tr>\n",
              "    <tr>\n",
              "      <th>2018-07-09</th>\n",
              "      <td>498</td>\n",
              "      <td>447</td>\n",
              "      <td>638</td>\n",
              "      <td>676</td>\n",
              "    </tr>\n",
              "    <tr>\n",
              "      <th>2018-07-10</th>\n",
              "      <td>539</td>\n",
              "      <td>405</td>\n",
              "      <td>498</td>\n",
              "      <td>543</td>\n",
              "    </tr>\n",
              "    <tr>\n",
              "      <th>2018-07-11</th>\n",
              "      <td>544</td>\n",
              "      <td>416</td>\n",
              "      <td>633</td>\n",
              "      <td>572</td>\n",
              "    </tr>\n",
              "    <tr>\n",
              "      <th>2018-07-12</th>\n",
              "      <td>916</td>\n",
              "      <td>641</td>\n",
              "      <td>1000</td>\n",
              "      <td>1011</td>\n",
              "    </tr>\n",
              "    <tr>\n",
              "      <th>2018-07-13</th>\n",
              "      <td>1489</td>\n",
              "      <td>1211</td>\n",
              "      <td>1904</td>\n",
              "      <td>1957</td>\n",
              "    </tr>\n",
              "    <tr>\n",
              "      <th>2018-07-14</th>\n",
              "      <td>4</td>\n",
              "      <td>6</td>\n",
              "      <td>9</td>\n",
              "      <td>6</td>\n",
              "    </tr>\n",
              "    <tr>\n",
              "      <th>2018-07-15</th>\n",
              "      <td>4</td>\n",
              "      <td>3</td>\n",
              "      <td>5</td>\n",
              "      <td>8</td>\n",
              "    </tr>\n",
              "    <tr>\n",
              "      <th>2018-07-16</th>\n",
              "      <td>676</td>\n",
              "      <td>582</td>\n",
              "      <td>828</td>\n",
              "      <td>797</td>\n",
              "    </tr>\n",
              "    <tr>\n",
              "      <th>2018-07-17</th>\n",
              "      <td>526</td>\n",
              "      <td>379</td>\n",
              "      <td>499</td>\n",
              "      <td>529</td>\n",
              "    </tr>\n",
              "    <tr>\n",
              "      <th>2018-07-18</th>\n",
              "      <td>602</td>\n",
              "      <td>537</td>\n",
              "      <td>662</td>\n",
              "      <td>637</td>\n",
              "    </tr>\n",
              "    <tr>\n",
              "      <th>2018-07-19</th>\n",
              "      <td>717</td>\n",
              "      <td>462</td>\n",
              "      <td>699</td>\n",
              "      <td>693</td>\n",
              "    </tr>\n",
              "    <tr>\n",
              "      <th>2018-07-20</th>\n",
              "      <td>2017</td>\n",
              "      <td>1476</td>\n",
              "      <td>2626</td>\n",
              "      <td>2683</td>\n",
              "    </tr>\n",
              "    <tr>\n",
              "      <th>2018-07-21</th>\n",
              "      <td>3</td>\n",
              "      <td>7</td>\n",
              "      <td>8</td>\n",
              "      <td>3</td>\n",
              "    </tr>\n",
              "    <tr>\n",
              "      <th>2018-07-22</th>\n",
              "      <td>3</td>\n",
              "      <td>2</td>\n",
              "      <td>1</td>\n",
              "      <td>7</td>\n",
              "    </tr>\n",
              "    <tr>\n",
              "      <th>2018-07-23</th>\n",
              "      <td>631</td>\n",
              "      <td>516</td>\n",
              "      <td>788</td>\n",
              "      <td>807</td>\n",
              "    </tr>\n",
              "    <tr>\n",
              "      <th>2018-07-24</th>\n",
              "      <td>563</td>\n",
              "      <td>385</td>\n",
              "      <td>574</td>\n",
              "      <td>594</td>\n",
              "    </tr>\n",
              "    <tr>\n",
              "      <th>2018-07-25</th>\n",
              "      <td>646</td>\n",
              "      <td>542</td>\n",
              "      <td>732</td>\n",
              "      <td>790</td>\n",
              "    </tr>\n",
              "    <tr>\n",
              "      <th>2018-07-26</th>\n",
              "      <td>791</td>\n",
              "      <td>552</td>\n",
              "      <td>836</td>\n",
              "      <td>786</td>\n",
              "    </tr>\n",
              "    <tr>\n",
              "      <th>2018-07-27</th>\n",
              "      <td>2806</td>\n",
              "      <td>1825</td>\n",
              "      <td>3389</td>\n",
              "      <td>3125</td>\n",
              "    </tr>\n",
              "    <tr>\n",
              "      <th>2018-07-28</th>\n",
              "      <td>10</td>\n",
              "      <td>7</td>\n",
              "      <td>6</td>\n",
              "      <td>8</td>\n",
              "    </tr>\n",
              "    <tr>\n",
              "      <th>2018-07-29</th>\n",
              "      <td>6</td>\n",
              "      <td>7</td>\n",
              "      <td>4</td>\n",
              "      <td>8</td>\n",
              "    </tr>\n",
              "    <tr>\n",
              "      <th>2018-07-30</th>\n",
              "      <td>831</td>\n",
              "      <td>605</td>\n",
              "      <td>1017</td>\n",
              "      <td>976</td>\n",
              "    </tr>\n",
              "    <tr>\n",
              "      <th>2018-07-31</th>\n",
              "      <td>1316</td>\n",
              "      <td>1014</td>\n",
              "      <td>1353</td>\n",
              "      <td>1364</td>\n",
              "    </tr>\n",
              "  </tbody>\n",
              "</table>\n",
              "</div>"
            ],
            "text/plain": [
              "property type     D     F     S     T\n",
              "sale date                            \n",
              "2018-07-01        4     2     7     5\n",
              "2018-07-02      705   564   782   880\n",
              "2018-07-03      443   426   436   523\n",
              "2018-07-04      529   401   528   606\n",
              "2018-07-05      623   453   614   668\n",
              "2018-07-06     1955  1662  2422  2361\n",
              "2018-07-07        7     6     2     3\n",
              "2018-07-08        2     4     1     4\n",
              "2018-07-09      498   447   638   676\n",
              "2018-07-10      539   405   498   543\n",
              "2018-07-11      544   416   633   572\n",
              "2018-07-12      916   641  1000  1011\n",
              "2018-07-13     1489  1211  1904  1957\n",
              "2018-07-14        4     6     9     6\n",
              "2018-07-15        4     3     5     8\n",
              "2018-07-16      676   582   828   797\n",
              "2018-07-17      526   379   499   529\n",
              "2018-07-18      602   537   662   637\n",
              "2018-07-19      717   462   699   693\n",
              "2018-07-20     2017  1476  2626  2683\n",
              "2018-07-21        3     7     8     3\n",
              "2018-07-22        3     2     1     7\n",
              "2018-07-23      631   516   788   807\n",
              "2018-07-24      563   385   574   594\n",
              "2018-07-25      646   542   732   790\n",
              "2018-07-26      791   552   836   786\n",
              "2018-07-27     2806  1825  3389  3125\n",
              "2018-07-28       10     7     6     8\n",
              "2018-07-29        6     7     4     8\n",
              "2018-07-30      831   605  1017   976\n",
              "2018-07-31     1316  1014  1353  1364"
            ]
          },
          "execution_count": 40,
          "metadata": {},
          "output_type": "execute_result"
        }
      ],
      "source": [
        "daily_sales_for_diff_prop=july_df.groupby(['sale date','property type'])['TID'].count().unstack()\n",
        "daily_sales_for_diff_prop"
      ]
    },
    {
      "cell_type": "code",
      "execution_count": null,
      "id": "91b0f73c",
      "metadata": {
        "id": "91b0f73c",
        "outputId": "5125c7e4-e541-426f-b8fa-279413288540"
      },
      "outputs": [
        {
          "data": {
            "text/plain": [
              "Text(0.5, 0, 'Date')"
            ]
          },
          "execution_count": 43,
          "metadata": {},
          "output_type": "execute_result"
        },
        {
          "data": {
            "image/png": "[encoded data removed]",
            "text/plain": [
              "<Figure size 1152x576 with 1 Axes>"
            ]
          },
          "metadata": {
            "needs_background": "light"
          },
          "output_type": "display_data"
        }
      ],
      "source": [
        "daily_sales_for_diff_prop.plot()\n",
        "plt.title('Daily Sales For Different Property Type in July')\n",
        "plt.ylabel('Total Sales')\n",
        "plt.xlabel('Date')"
      ]
    },
    {
      "cell_type": "markdown",
      "id": "a637ce71",
      "metadata": {
        "id": "a637ce71"
      },
      "source": [
        "# 4: Draw Comparisons among different property types in terms of sales"
      ]
    },
    {
      "cell_type": "code",
      "execution_count": null,
      "id": "8f8c4e9b",
      "metadata": {
        "id": "8f8c4e9b",
        "outputId": "f02d3627-8641-4d24-8422-a59e3d22e536"
      },
      "outputs": [
        {
          "data": {
            "text/plain": [
              "T    274610\n",
              "S    268026\n",
              "D    233324\n",
              "F    183043\n",
              "Name: property type, dtype: int64"
            ]
          },
          "execution_count": 44,
          "metadata": {},
          "output_type": "execute_result"
        }
      ],
      "source": [
        "property_wise_sales=df['property type'].value_counts()\n",
        "property_wise_sales"
      ]
    },
    {
      "cell_type": "code",
      "execution_count": null,
      "id": "c3ddd96c",
      "metadata": {
        "id": "c3ddd96c",
        "outputId": "592c6cdd-58dd-4b07-add2-46339deb8818"
      },
      "outputs": [
        {
          "data": {
            "text/plain": [
              "<AxesSubplot:>"
            ]
          },
          "execution_count": 49,
          "metadata": {},
          "output_type": "execute_result"
        },
        {
          "data": {
            "image/png": "[encoded data removed]",
            "text/plain": [
              "<Figure size 1152x576 with 1 Axes>"
            ]
          },
          "metadata": {
            "needs_background": "light"
          },
          "output_type": "display_data"
        }
      ],
      "source": [
        "property_wise_sales.plot(kind='bar')\n"
      ]
    },
    {
      "cell_type": "code",
      "execution_count": null,
      "id": "7762175c",
      "metadata": {
        "id": "7762175c"
      },
      "outputs": [],
      "source": []
    }
  ],
  "metadata": {
    "kernelspec": {
      "display_name": "Python 3 (ipykernel)",
      "language": "python",
      "name": "python3"
    },
    "language_info": {
      "codemirror_mode": {
        "name": "ipython",
        "version": 3
      },
      "file_extension": ".py",
      "mimetype": "text/x-python",
      "name": "python",
      "nbconvert_exporter": "python",
      "pygments_lexer": "ipython3",
      "version": "3.9.6"
    },
    "colab": {
      "provenance": [],
      "include_colab_link": true
    }
  },
  "nbformat": 4,
  "nbformat_minor": 5
}